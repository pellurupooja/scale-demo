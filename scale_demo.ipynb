{
 "cells": [
  {
   "cell_type": "code",
   "execution_count": null,
   "metadata": {},
   "outputs": [],
   "source": [
    "from tkinter import *\n",
    "from tkinter import messagebox\n",
    "\n",
    "root= Tk()\n",
    "\n",
    "root.title('Scale Demo')\n",
    "\n",
    "root.geometry(\"200x200\")\n",
    "\n",
    "def slide():\n",
    "\n",
    "    msg = messagebox.showinfo( \"GUI Event Demo\",v.get())\n",
    "\n",
    "v = DoubleVar()\n",
    "\n",
    "scale = Scale( root, variable = v, from_ = 1, to = 50, orient = HORIZONTAL)\n",
    "\n",
    "scale.pack(anchor=CENTER)\n",
    "\n",
    "btn = Button(root, text=\"Value\", command=slide)\n",
    "\n",
    "btn.pack(anchor=CENTER)\n",
    "\n",
    "root.mainloop()"
   ]
  },
  {
   "cell_type": "code",
   "execution_count": null,
   "metadata": {},
   "outputs": [],
   "source": []
  }
 ],
 "metadata": {
  "kernelspec": {
   "display_name": "Python 3",
   "language": "python",
   "name": "python3"
  },
  "language_info": {
   "codemirror_mode": {
    "name": "ipython",
    "version": 3
   },
   "file_extension": ".py",
   "mimetype": "text/x-python",
   "name": "python",
   "nbconvert_exporter": "python",
   "pygments_lexer": "ipython3",
   "version": "3.7.4"
  }
 },
 "nbformat": 4,
 "nbformat_minor": 2
}
